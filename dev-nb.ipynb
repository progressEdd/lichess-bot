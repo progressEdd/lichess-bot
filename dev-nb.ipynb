{
 "cells": [
  {
   "cell_type": "code",
   "execution_count": 1,
   "metadata": {},
   "outputs": [],
   "source": [
    "from selenium import webdriver\n",
    "from selenium.webdriver.common.by import By\n",
    "from selenium.webdriver.common.action_chains import ActionChains\n",
    "from selenium.webdriver.common.desired_capabilities import DesiredCapabilities\n",
    "from selenium.webdriver.common.keys import Keys\n",
    "from selenium.webdriver.support.ui import WebDriverWait"
   ]
  },
  {
   "cell_type": "code",
   "execution_count": null,
   "metadata": {},
   "outputs": [],
   "source": [
    "driver = webdriver.Edge()\n",
    "driver.set_window_size(1920, 1080)\n",
    "driver.get(url + '.htm')"
   ]
  },
  {
   "cell_type": "code",
   "execution_count": 2,
   "metadata": {},
   "outputs": [],
   "source": [
    "driver = webdriver.Firefox()\n",
    "driver.get('https://lichess.org/')"
   ]
  },
  {
   "cell_type": "code",
   "execution_count": 3,
   "metadata": {},
   "outputs": [],
   "source": [
    "login_element = driver.find_element(By.CSS_SELECTOR, 'a[href=\"/login?referrer=/\"].signin.button.button-empty')"
   ]
  },
  {
   "cell_type": "code",
   "execution_count": 4,
   "metadata": {},
   "outputs": [],
   "source": [
    "login_element.click()"
   ]
  },
  {
   "cell_type": "code",
   "execution_count": 5,
   "metadata": {},
   "outputs": [],
   "source": [
    "from dotenv import load_dotenv\n",
    "import os\n",
    "load_dotenv()\n",
    "username = os.getenv('EMAIL')\n",
    "password = os.getenv('PASSWORD')"
   ]
  },
  {
   "cell_type": "code",
   "execution_count": 23,
   "metadata": {},
   "outputs": [
    {
     "ename": "WebDriverException",
     "evalue": "Message: Failed to write request to stream\n",
     "output_type": "error",
     "traceback": [
      "\u001b[1;31m---------------------------------------------------------------------------\u001b[0m",
      "\u001b[1;31mWebDriverException\u001b[0m                        Traceback (most recent call last)",
      "Cell \u001b[1;32mIn[23], line 4\u001b[0m\n\u001b[0;32m      1\u001b[0m \u001b[39m# username_element = driver.find_element(By.ID, \"form3-username\")\u001b[39;00m\n\u001b[0;32m      2\u001b[0m \u001b[39m# username_element.send_keys(username)\u001b[39;00m\n\u001b[1;32m----> 4\u001b[0m password_element \u001b[39m=\u001b[39m driver\u001b[39m.\u001b[39;49mfind_element(By\u001b[39m.\u001b[39;49mID, \u001b[39m\"\u001b[39;49m\u001b[39mform3-password\u001b[39;49m\u001b[39m\"\u001b[39;49m)\n\u001b[0;32m      5\u001b[0m password_element\u001b[39m.\u001b[39msend_keys(password)\n\u001b[0;32m      6\u001b[0m password_element\u001b[39m.\u001b[39msend_keys(Keys\u001b[39m.\u001b[39mENTER)\n",
      "File \u001b[1;32mc:\\Users\\CV798TK\\Miniconda3\\envs\\data\\lib\\site-packages\\selenium\\webdriver\\remote\\webdriver.py:831\u001b[0m, in \u001b[0;36mWebDriver.find_element\u001b[1;34m(self, by, value)\u001b[0m\n\u001b[0;32m    828\u001b[0m     by \u001b[39m=\u001b[39m By\u001b[39m.\u001b[39mCSS_SELECTOR\n\u001b[0;32m    829\u001b[0m     value \u001b[39m=\u001b[39m \u001b[39mf\u001b[39m\u001b[39m'\u001b[39m\u001b[39m[name=\u001b[39m\u001b[39m\"\u001b[39m\u001b[39m{\u001b[39;00mvalue\u001b[39m}\u001b[39;00m\u001b[39m\"\u001b[39m\u001b[39m]\u001b[39m\u001b[39m'\u001b[39m\n\u001b[1;32m--> 831\u001b[0m \u001b[39mreturn\u001b[39;00m \u001b[39mself\u001b[39;49m\u001b[39m.\u001b[39;49mexecute(Command\u001b[39m.\u001b[39;49mFIND_ELEMENT, {\u001b[39m\"\u001b[39;49m\u001b[39musing\u001b[39;49m\u001b[39m\"\u001b[39;49m: by, \u001b[39m\"\u001b[39;49m\u001b[39mvalue\u001b[39;49m\u001b[39m\"\u001b[39;49m: value})[\u001b[39m\"\u001b[39m\u001b[39mvalue\u001b[39m\u001b[39m\"\u001b[39m]\n",
      "File \u001b[1;32mc:\\Users\\CV798TK\\Miniconda3\\envs\\data\\lib\\site-packages\\selenium\\webdriver\\remote\\webdriver.py:440\u001b[0m, in \u001b[0;36mWebDriver.execute\u001b[1;34m(self, driver_command, params)\u001b[0m\n\u001b[0;32m    438\u001b[0m response \u001b[39m=\u001b[39m \u001b[39mself\u001b[39m\u001b[39m.\u001b[39mcommand_executor\u001b[39m.\u001b[39mexecute(driver_command, params)\n\u001b[0;32m    439\u001b[0m \u001b[39mif\u001b[39;00m response:\n\u001b[1;32m--> 440\u001b[0m     \u001b[39mself\u001b[39;49m\u001b[39m.\u001b[39;49merror_handler\u001b[39m.\u001b[39;49mcheck_response(response)\n\u001b[0;32m    441\u001b[0m     response[\u001b[39m\"\u001b[39m\u001b[39mvalue\u001b[39m\u001b[39m\"\u001b[39m] \u001b[39m=\u001b[39m \u001b[39mself\u001b[39m\u001b[39m.\u001b[39m_unwrap_value(response\u001b[39m.\u001b[39mget(\u001b[39m\"\u001b[39m\u001b[39mvalue\u001b[39m\u001b[39m\"\u001b[39m, \u001b[39mNone\u001b[39;00m))\n\u001b[0;32m    442\u001b[0m     \u001b[39mreturn\u001b[39;00m response\n",
      "File \u001b[1;32mc:\\Users\\CV798TK\\Miniconda3\\envs\\data\\lib\\site-packages\\selenium\\webdriver\\remote\\errorhandler.py:245\u001b[0m, in \u001b[0;36mErrorHandler.check_response\u001b[1;34m(self, response)\u001b[0m\n\u001b[0;32m    243\u001b[0m         alert_text \u001b[39m=\u001b[39m value[\u001b[39m\"\u001b[39m\u001b[39malert\u001b[39m\u001b[39m\"\u001b[39m]\u001b[39m.\u001b[39mget(\u001b[39m\"\u001b[39m\u001b[39mtext\u001b[39m\u001b[39m\"\u001b[39m)\n\u001b[0;32m    244\u001b[0m     \u001b[39mraise\u001b[39;00m exception_class(message, screen, stacktrace, alert_text)  \u001b[39m# type: ignore[call-arg]  # mypy is not smart enough here\u001b[39;00m\n\u001b[1;32m--> 245\u001b[0m \u001b[39mraise\u001b[39;00m exception_class(message, screen, stacktrace)\n",
      "\u001b[1;31mWebDriverException\u001b[0m: Message: Failed to write request to stream\n"
     ]
    }
   ],
   "source": [
    "# username_element = driver.find_element(By.ID, \"form3-username\")\n",
    "# username_element.send_keys(username)\n",
    "\n",
    "password_element = driver.find_element(By.ID, \"form3-password\")\n",
    "password_element.send_keys(password)\n",
    "password_element.send_keys(Keys.ENTER)"
   ]
  },
  {
   "cell_type": "code",
   "execution_count": 8,
   "metadata": {},
   "outputs": [],
   "source": [
    "driver.get('https://lichess.org/tournament/new')\n",
    "input_element = driver.find_element(By.ID, \"form3-name\")\n",
    "input_element.clear()\n",
    "arena_name = 'Arena 1'\n",
    "input_element.send_keys(arena_name)"
   ]
  },
  {
   "cell_type": "code",
   "execution_count": 9,
   "metadata": {},
   "outputs": [],
   "source": [
    "rated_element = driver.find_element(By.CSS_SELECTOR, 'label[for=\"form3-rated\"]')\n",
    "rated_element.click()"
   ]
  },
  {
   "cell_type": "code",
   "execution_count": 10,
   "metadata": {},
   "outputs": [],
   "source": [
    "description_element = driver.find_element(By.ID, \"form3-description\")\n",
    "description_element.click()\n",
    "description = 'test arena'\n",
    "description_element.send_keys(description)\n"
   ]
  },
  {
   "cell_type": "code",
   "execution_count": 11,
   "metadata": {},
   "outputs": [],
   "source": [
    "advanced_options_element = driver.find_element(By.CLASS_NAME, \"show\")\n",
    "advanced_options_element.click()"
   ]
  },
  {
   "cell_type": "code",
   "execution_count": 12,
   "metadata": {},
   "outputs": [],
   "source": [
    "entry_code_element = driver.find_element(By.ID, \"form3-password\")\n",
    "entry_code_element.click()\n",
    "entry_code = \"your_entry_code_here\"\n",
    "entry_code_element.send_keys(entry_code)"
   ]
  },
  {
   "cell_type": "code",
   "execution_count": 13,
   "metadata": {},
   "outputs": [],
   "source": [
    "custom_start_date = driver.find_element(By.CLASS_NAME, \"form-control.flatpickr.form-control.input\")\n",
    "custom_start_date.click()"
   ]
  },
  {
   "cell_type": "code",
   "execution_count": 16,
   "metadata": {},
   "outputs": [],
   "source": [
    "date_picker = driver.find_element(By.CLASS_NAME, \"flatpickr-calendar\")\n",
    "specific_date_element = date_picker.find_element(By.CSS_SELECTOR, \".flatpickr-day[aria-label='August 30, 2023']\")\n",
    "specific_date_element.click()"
   ]
  },
  {
   "cell_type": "code",
   "execution_count": 20,
   "metadata": {},
   "outputs": [],
   "source": [
    "custom_start_date = driver.find_element(By.CLASS_NAME, \"form-control.flatpickr.form-control.input\")\n",
    "custom_start_date.click()\n",
    "\n",
    "# Define your desired values here\n",
    "desired_date = \"August 30, 2023\"\n",
    "desired_hour = \"5\"\n",
    "desired_minute = \"00\"\n",
    "desired_period = \"PM\"  # or \"AM\"\n",
    "\n",
    "# Locate the date picker element\n",
    "date_picker = driver.find_element(By.CLASS_NAME, \"flatpickr-calendar\")\n",
    "\n",
    "# Use the desired_date variable to find the specific date element\n",
    "specific_date_element = date_picker.find_element(By.CSS_SELECTOR, f\".flatpickr-day[aria-label='{desired_date}']\")\n",
    "specific_date_element.click()\n",
    "\n",
    "# Set the desired hour\n",
    "hour_input = driver.find_element(By.CLASS_NAME, \"numInput.flatpickr-hour\")\n",
    "hour_input.clear()\n",
    "hour_input.send_keys(desired_hour)\n",
    "\n",
    "# Set the desired minute\n",
    "minute_input = driver.find_element(By.CLASS_NAME, \"numInput.flatpickr-minute\")\n",
    "minute_input.clear()\n",
    "minute_input.send_keys(desired_minute)\n",
    "\n",
    "# Set AM or PM\n",
    "am_pm_input = driver.find_element(By.CLASS_NAME, \"flatpickr-am-pm\")\n",
    "\n",
    "# If the current state of the AM/PM toggle doesn't match the desired period, click to change it.\n",
    "if am_pm_input.text != desired_period:\n",
    "    am_pm_input.click()\n"
   ]
  },
  {
   "cell_type": "code",
   "execution_count": 22,
   "metadata": {},
   "outputs": [
    {
     "data": {
      "text/plain": [
       "<selenium.webdriver.remote.webelement.WebElement (session=\"b3419c72-7774-4e32-967d-e8f75a0ffd4f\", element=\"9b7b8fd4-eddb-40ee-98df-44ccd2c2516a\")>"
      ]
     },
     "execution_count": 22,
     "metadata": {},
     "output_type": "execute_result"
    }
   ],
   "source": [
    "# Find the \"Create a new tournament\" button by its attributes\n",
    "create_tournament_button = driver.find_element(By.XPATH, \"//button[@data-icon='' and @class='submit button text']\")\n",
    "\n",
    "# Click the button\n",
    "create_tournament_button.click()"
   ]
  },
  {
   "cell_type": "code",
   "execution_count": 27,
   "metadata": {},
   "outputs": [
    {
     "name": "stdout",
     "output_type": "stream",
     "text": [
      "Start Date: August 30, 2023\n"
     ]
    }
   ],
   "source": [
    "import datetime\n",
    "\n",
    "start_date = None  # This will be the start date of the tournament\n",
    "if not start_date:\n",
    "    today = datetime.datetime.today()\n",
    "    days_until_next_wednesday = (2 - today.weekday()) % 7  # Calculate the days until next Wednesday (2 corresponds to Wednesday)\n",
    "    next_wednesday = today + datetime.timedelta(days=days_until_next_wednesday)\n",
    "    start_date = next_wednesday.strftime(\"%B %d, %Y\")  # Format the date as \"August 30, 2023\"\n",
    "\n",
    "# Now you have the start_date which is either from the config or the next Wednesday\n",
    "print(\"Start Date:\", start_date)"
   ]
  },
  {
   "cell_type": "markdown",
   "metadata": {},
   "source": [
    "# unified script"
   ]
  },
  {
   "cell_type": "code",
   "execution_count": null,
   "metadata": {},
   "outputs": [],
   "source": [
    "from dotenv import load_dotenv\n",
    "import os\n",
    "load_dotenv()\n",
    "\n",
    "driver = webdriver.Firefox()\n",
    "\n",
    "\n",
    "def login():\n",
    "    username = os.getenv('EMAIL')\n",
    "    password = os.getenv('PASSWORD')\n",
    "    driver.get('https://lichess.org/')\n",
    "    login_element = driver.find_element(By.CSS_SELECTOR, 'a[href=\"/login?referrer=/\"].signin.button.button-empty')\n",
    "    login_element.click()\n",
    "    username_element = driver.find_element(By.ID, \"form3-username\")\n",
    "    username_element.send_keys(username)\n",
    "    password_element = driver.find_element(By.ID, \"form3-password\")\n",
    "    password_element.send_keys(password)\n",
    "    password_element.send_keys(Keys.ENTER)"
   ]
  },
  {
   "cell_type": "code",
   "execution_count": null,
   "metadata": {},
   "outputs": [],
   "source": [
    "def validate_date(date_string):\n",
    "    try:\n",
    "        datetime.datetime.strptime(date_string, '%B %d, %Y')\n",
    "        return True\n",
    "    except ValueError:\n",
    "        return False\n",
    "\n",
    "def validate_time(hour, minute, period):\n",
    "    if not (1 <= int(hour) <= 12):\n",
    "        return False\n",
    "    if not (0 <= int(minute) <= 59):\n",
    "        return False\n",
    "    if period not in [\"AM\", \"PM\"]:\n",
    "        return False\n",
    "    return True\n",
    "\n",
    "def get_date_input():\n",
    "    desired_date = input(\"Enter the desired date (e.g., 'August 30, 2023'): \")\n",
    "    while not validate_date(desired_date):\n",
    "        print(\"Invalid date format. Please enter again.\")\n",
    "        desired_date = input(\"Enter the desired date (e.g., 'August 30, 2023'): \")\n",
    "    return desired_date\n",
    "\n",
    "def get_time_input():\n",
    "    desired_hour = input(\"Enter the desired hour (1-12 format): \")\n",
    "    desired_minute = input(\"Enter the desired minute (00-59 format): \")\n",
    "    desired_period = input(\"Enter the period (AM/PM): \").upper()\n",
    "    while not validate_time(desired_hour, desired_minute, desired_period):\n",
    "        print(\"Invalid time input. Please enter again.\")\n",
    "        desired_hour = input(\"Enter the desired hour (1-12 format): \")\n",
    "        desired_minute = input(\"Enter the desired minute (00-59 format): \")\n",
    "        desired_period = input(\"Enter the period (AM/PM): \").upper()\n",
    "    return desired_hour, desired_minute, desired_period\n",
    "\n",
    "def set_date(desired_date, desired_hour, desired_minute, desired_period):\n",
    "    custom_start_date = driver.find_element(By.CLASS_NAME, \"form-control.flatpickr.form-control.input\")\n",
    "    custom_start_date.click()\n",
    "\n",
    "    # Locate the date picker element\n",
    "    date_picker = driver.find_element(By.CLASS_NAME, \"flatpickr-calendar\")\n",
    "\n",
    "    # Use the desired_date variable to find the specific date element\n",
    "    specific_date_element = date_picker.find_element(By.CSS_SELECTOR, f\".flatpickr-day[aria-label='{desired_date}']\")\n",
    "    specific_date_element.click()\n",
    "\n",
    "    # Set the desired hour\n",
    "    hour_input = driver.find_element(By.CLASS_NAME, \"numInput.flatpickr-hour\")\n",
    "    hour_input.clear()\n",
    "    hour_input.send_keys(desired_hour)\n",
    "\n",
    "    # Set the desired minute\n",
    "    minute_input = driver.find_element(By.CLASS_NAME, \"numInput.flatpickr-minute\")\n",
    "    minute_input.clear()\n",
    "    minute_input.send_keys(desired_minute)\n",
    "\n",
    "    # Set AM or PM\n",
    "    am_pm_input = driver.find_element(By.CLASS_NAME, \"flatpickr-am-pm\")\n",
    "\n",
    "    # If the current state of the AM/PM toggle doesn't match the desired period, click to change it.\n",
    "    if am_pm_input.text != desired_period:\n",
    "        am_pm_input.click()\n",
    "\n",
    "def create_arena(arena_name, description_title, rated=False, entry_code, start_date, start_hour, start_minute, start_period):\n",
    "    driver.get('https://lichess.org/tournament/new')\n",
    "    \n",
    "    # set arena name\n",
    "    input_element = driver.find_element(By.ID, \"form3-name\")\n",
    "    input_element.clear()\n",
    "    input_element.send_keys(arena_name)\n",
    "\n",
    "    # set arena description\n",
    "    description_element = driver.find_element(By.ID, \"form3-description\")\n",
    "    description_element.click()\n",
    "    description_element.send_keys(description_title)\n",
    "\n",
    "    # set arena to rated\n",
    "    if(rated == False):\n",
    "        rated_element = driver.find_element(By.CSS_SELECTOR, 'label[for=\"form3-rated\"]')\n",
    "        rated_element.click()\n",
    "    \n",
    "    # set additional arena options\n",
    "    advanced_options_element = driver.find_element(By.CLASS_NAME, \"show\")\n",
    "    advanced_options_element.click()\n",
    "\n",
    "    # set arena entry code\n",
    "    entry_code_element = driver.find_element(By.ID, \"form3-password\")\n",
    "    entry_code_element.click()\n",
    "    entry_code_element.send_keys(entry_code)\n",
    "\n",
    "    # set arena start date\n",
    "    set_date(start_date, start_hour, start_minute, start_period)\n",
    "\n",
    "    # Find the \"Create a new tournament\" button by its attributes\n",
    "    create_tournament_button = driver.find_element(By.XPATH, \"//button[@data-icon='' and @class='submit button text']\")\n",
    "\n",
    "    # Click the button\n",
    "    create_tournament_button.click()\n"
   ]
  },
  {
   "cell_type": "code",
   "execution_count": null,
   "metadata": {},
   "outputs": [],
   "source": [
    "def main():\n",
    "    # Initializing the driver here. You may already have this in your original code.\n",
    "    driver.get('https://lichess.org/')\n",
    "\n",
    "    # Login\n",
    "    login()\n",
    "\n",
    "    # Getting input values for creating an arena\n",
    "    arena_name = input(\"Enter the arena name: \")\n",
    "    description_title = input(\"Enter the arena description: \")\n",
    "    rated_response = input(\"Should the arena be rated? (yes/no): \").lower()\n",
    "    rated = rated_response == 'yes'\n",
    "    entry_code = input(\"Enter an entry code for the arena: \")\n",
    "    \n",
    "    start_date = get_date_input()\n",
    "    start_hour, start_minute, start_period = get_time_input()\n",
    "    \n",
    "    # Create Arena\n",
    "    create_arena(arena_name, description_title, rated, entry_code, start_date, start_hour, start_minute, start_period)\n",
    "\n",
    "if __name__ == \"__main__\":\n",
    "    main()"
   ]
  }
 ],
 "metadata": {
  "kernelspec": {
   "display_name": "data",
   "language": "python",
   "name": "python3"
  },
  "language_info": {
   "codemirror_mode": {
    "name": "ipython",
    "version": 3
   },
   "file_extension": ".py",
   "mimetype": "text/x-python",
   "name": "python",
   "nbconvert_exporter": "python",
   "pygments_lexer": "ipython3",
   "version": "3.9.13"
  },
  "orig_nbformat": 4
 },
 "nbformat": 4,
 "nbformat_minor": 2
}
